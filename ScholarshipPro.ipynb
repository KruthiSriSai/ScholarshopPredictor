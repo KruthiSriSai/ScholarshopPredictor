{
  "nbformat": 4,
  "nbformat_minor": 0,
  "metadata": {
    "colab": {
      "provenance": [],
      "include_colab_link": true
    },
    "kernelspec": {
      "name": "python3",
      "display_name": "Python 3"
    },
    "language_info": {
      "name": "python"
    }
  },
  "cells": [
    {
      "cell_type": "markdown",
      "metadata": {
        "id": "view-in-github",
        "colab_type": "text"
      },
      "source": [
        "<a href=\"https://colab.research.google.com/github/KruthiSriSai/ScholarshopPredictor/blob/main/ScholarshipPro.ipynb\" target=\"_parent\"><img src=\"https://colab.research.google.com/assets/colab-badge.svg\" alt=\"Open In Colab\"/></a>"
      ]
    },
    {
      "cell_type": "code",
      "execution_count": null,
      "metadata": {
        "colab": {
          "base_uri": "https://localhost:8080/"
        },
        "id": "oymBMtrG8uBq",
        "outputId": "602417c8-03e8-44b6-ba8f-28f252d0370b"
      },
      "outputs": [
        {
          "output_type": "stream",
          "name": "stdout",
          "text": [
            "Requirement already satisfied: faker in /usr/local/lib/python3.10/dist-packages (30.6.0)\n",
            "Requirement already satisfied: python-dateutil>=2.4 in /usr/local/lib/python3.10/dist-packages (from faker) (2.8.2)\n",
            "Requirement already satisfied: typing-extensions in /usr/local/lib/python3.10/dist-packages (from faker) (4.12.2)\n",
            "Requirement already satisfied: six>=1.5 in /usr/local/lib/python3.10/dist-packages (from python-dateutil>=2.4->faker) (1.16.0)\n"
          ]
        }
      ],
      "source": [
        "!pip install faker # Installs the faker package\n",
        "\n",
        "import pandas as pd\n",
        "import numpy as np\n",
        "from faker import Faker # Now faker can be imported\n",
        "from sklearn.model_selection import train_test_split\n",
        "from sklearn.preprocessing import StandardScaler\n",
        "from sklearn.ensemble import RandomForestClassifier\n",
        "from sklearn.metrics import accuracy_score, confusion_matrix\n",
        "import joblib"
      ]
    },
    {
      "cell_type": "code",
      "source": [
        "# Initialize the Faker instance\n",
        "fake = Faker()\n",
        "\n",
        "# Set the random seed for reproducibility\n",
        "np.random.seed(42)\n",
        "\n",
        "# List of sports, levels, achievements, academic awards, and leadership roles\n",
        "sports_list = ['Basketball', 'Soccer', 'Tennis', 'Swimming', 'Athletics']\n",
        "sport_levels = ['School', 'District', 'State', 'National']\n",
        "sport_achievements = ['Participation', 'Winner', 'Runner-up']\n",
        "academic_awards_list = ['Dean\\'s List', 'Science Fair Winner', 'Math Olympiad Medalist', 'Valedictorian', 'Essay Contest Winner']\n",
        "leadership_roles_list = ['Class President', 'Club Leader', 'Sports Captain', 'Debate Team Captain', 'Volunteer Coordinator']\n",
        "\n",
        "# Number of synthetic records to generate\n",
        "num_students = 10000\n",
        "# Generate synthetic data\n",
        "def generate_student_data(num_records):\n",
        "    data = {\n",
        "        'Student_ID': [fake.unique.random_int(min=10000, max=25000) for _ in range(num_records)],\n",
        "        'GPA': np.random.uniform(2.0, 4.0, num_records),  # GPA between 2.0 and 4.0\n",
        "        'SAT_Score': np.random.randint(500, 1600, num_records),  # SAT score between 500 and 1600\n",
        "        'Academic_Awards': np.random.randint(0, 5, num_records),  # Number of academic awards (0 to 4)\n",
        "        'Academic_Award_Type': [np.random.choice(academic_awards_list, size=np.random.randint(0, 5), replace=False).tolist() for _ in range(num_records)],  # Type of academic awards\n",
        "        'Leadership_Roles': np.random.randint(0, 5, num_records),  # Number of leadership roles (0 to 6)\n",
        "        'Leadership_Role_Type': [np.random.choice(leadership_roles_list, size=np.random.randint(0, 3), replace=False).tolist() for _ in range(num_records)],  # Type of leadership roles\n",
        "        'Volunteering_Hours': np.random.randint(0, 200, num_records),  # Volunteering hours (0 to 200)\n",
        "        'Sports_Involvement': np.random.choice([0, 1], num_records),  # 1 = involved in sports, 0 = not involved\n",
        "        'Sport_Type': [np.random.choice(sports_list) if involvement == 1 else 'None' for involvement in np.random.choice([0, 1], num_records)],  # Type of sport\n",
        "        'Sport_Level': [np.random.choice(sport_levels) if involvement == 1 else 'None' for involvement in np.random.choice([0, 1], num_records)],  # Level of sport\n",
        "        'Sport_Achievement': [np.random.choice(sport_achievements) if involvement == 1 else 'None' for involvement in np.random.choice([0, 1], num_records)],  # Achievement in sport\n",
        "        'Household_Income': np.random.randint(20000, 150000, num_records),  # Income between $20k and $150k\n",
        "        'Number_of_Dependents': np.random.randint(1, 6, num_records),  # Number of dependents (1 to 5)\n",
        "        'Received_Financial_Aid': np.random.choice([0, 1], num_records),  # 1 = received aid, 0 = no aid\n",
        "        'Recommendation_Letters': np.random.randint(1, 6, num_records),  # Quality of recommendation letters (1 to 5)\n",
        "        'Scholarship_Eligibility': np.where(  # Generate target based on some conditions\n",
        "            (np.random.uniform(2.0, 4.0, num_records) > 3.5) &\n",
        "            (np.random.randint(900, 1600, num_records) > 1200) &\n",
        "            ((np.random.randint(20000, 150000, num_records) < 60000) | (np.random.choice([0, 1], num_records) == 1)) &\n",
        "            (np.random.randint(1, 6, num_records) > 3),\n",
        "            1, 0)\n",
        "    }\n",
        "\n",
        "    # Convert the dictionary to a Pandas DataFrame\n",
        "    df = pd.DataFrame(data)\n",
        "\n",
        "    # Ensure consistency: If a student is not involved in sports, set related fields to 'None'\n",
        "    df.loc[df['Sports_Involvement'] == 0, ['Sport_Type', 'Sport_Level', 'Sport_Achievement']] = 'None'\n",
        "\n",
        "    return df\n",
        "\n",
        "# Generate the synthetic dataset\n",
        "synthetic_data = generate_student_data(num_students)\n",
        "\n",
        "# Display the first few rows of the dataset\n",
        "print(synthetic_data.head())\n",
        "\n",
        "# Save the dataset to a CSV file (optional)\n",
        "synthetic_data.to_csv('synthetic_student_scholarship_data_with_awards_and_roles.csv', index=False)\n"
      ],
      "metadata": {
        "colab": {
          "base_uri": "https://localhost:8080/"
        },
        "id": "tkq38WDG87Md",
        "outputId": "efd66fa6-38ac-47a6-8e83-56ccd095cccc"
      },
      "execution_count": null,
      "outputs": [
        {
          "output_type": "stream",
          "name": "stdout",
          "text": [
            "   Student_ID       GPA  SAT_Score  Academic_Awards  \\\n",
            "0       10675  2.749080       1363                4   \n",
            "1       15102  3.901429       1047                1   \n",
            "2       20728  3.463988       1560                4   \n",
            "3       10687  3.197317       1507                4   \n",
            "4       14759  2.312037       1537                3   \n",
            "\n",
            "                                 Academic_Award_Type  Leadership_Roles  \\\n",
            "0  [Science Fair Winner, Dean's List, Math Olympi...                 3   \n",
            "1                       [Dean's List, Valedictorian]                 4   \n",
            "2                                                 []                 2   \n",
            "3                                                 []                 4   \n",
            "4                                                 []                 3   \n",
            "\n",
            "             Leadership_Role_Type  Volunteering_Hours  Sports_Involvement  \\\n",
            "0                              []                 105                   1   \n",
            "1         [Volunteer Coordinator]                 111                   1   \n",
            "2         [Volunteer Coordinator]                 126                   1   \n",
            "3  [Class President, Club Leader]                 164                   1   \n",
            "4                              []                 178                   0   \n",
            "\n",
            "  Sport_Type Sport_Level Sport_Achievement  Household_Income  \\\n",
            "0       None    District         Runner-up             33070   \n",
            "1       None       State              None             86814   \n",
            "2       None        None     Participation             47553   \n",
            "3       None    District              None             78770   \n",
            "4       None        None              None            132304   \n",
            "\n",
            "   Number_of_Dependents  Received_Financial_Aid  Recommendation_Letters  \\\n",
            "0                     4                       1                       1   \n",
            "1                     3                       1                       4   \n",
            "2                     1                       0                       3   \n",
            "3                     5                       1                       3   \n",
            "4                     3                       1                       3   \n",
            "\n",
            "   Scholarship_Eligibility  \n",
            "0                        0  \n",
            "1                        0  \n",
            "2                        0  \n",
            "3                        0  \n",
            "4                        0  \n"
          ]
        }
      ]
    },
    {
      "cell_type": "code",
      "source": [
        "length = len(synthetic_data)\n",
        "print(length)"
      ],
      "metadata": {
        "colab": {
          "base_uri": "https://localhost:8080/"
        },
        "id": "JrV2BB939hAO",
        "outputId": "aa979e72-2f42-41bb-f64e-576139168164"
      },
      "execution_count": null,
      "outputs": [
        {
          "output_type": "stream",
          "name": "stdout",
          "text": [
            "10000\n"
          ]
        }
      ]
    },
    {
      "cell_type": "code",
      "source": [
        "# Define feature columns\n",
        "features = ['GPA', 'SAT_Score', 'Academic_Awards', 'Leadership_Roles', 'Volunteering_Hours',\n",
        "            'Household_Income', 'Number_of_Dependents', 'Received_Financial_Aid', 'Recommendation_Letters']\n",
        "\n",
        "# Separate features and target\n",
        "X = synthetic_data[features]\n",
        "y = synthetic_data['Scholarship_Eligibility']\n",
        "\n",
        "# Split the data into training and testing sets\n",
        "X_train, X_test, y_train, y_test = train_test_split(X, y, test_size=0.2, random_state=42)\n",
        "\n",
        "# Standardize the features (GPA, SAT_Score, etc.)\n",
        "scaler = StandardScaler()\n",
        "X_train_scaled = scaler.fit_transform(X_train)\n",
        "X_test_scaled = scaler.transform(X_test)\n"
      ],
      "metadata": {
        "id": "ffhWRa9X9mhq"
      },
      "execution_count": null,
      "outputs": []
    },
    {
      "cell_type": "code",
      "source": [
        "# Initialize and train the RandomForestClassifier\n",
        "model = RandomForestClassifier(n_estimators=1000, random_state=42)\n",
        "model.fit(X_train_scaled, y_train)\n",
        "\n",
        "# Save the trained model and scaler using joblib for later use\n",
        "joblib.dump(model, 'scholarship_prediction_model.pkl')\n",
        "joblib.dump(scaler, 'scaler.pkl')\n"
      ],
      "metadata": {
        "colab": {
          "base_uri": "https://localhost:8080/"
        },
        "id": "TCYCtSxJ-YPV",
        "outputId": "d78560c8-f70e-4f10-a86b-045bfe2c2dc3"
      },
      "execution_count": null,
      "outputs": [
        {
          "output_type": "execute_result",
          "data": {
            "text/plain": [
              "['scaler.pkl']"
            ]
          },
          "metadata": {},
          "execution_count": 6
        }
      ]
    },
    {
      "cell_type": "code",
      "source": [
        "# Make predictions on the test set\n",
        "y_pred = model.predict(X_test_scaled)\n",
        "\n",
        "# Evaluate model performance\n",
        "accuracy = accuracy_score(y_test, y_pred)\n",
        "print(f'Accuracy: {accuracy * 100:.2f}%')\n",
        "\n",
        "# Confusion matrix\n",
        "cm = confusion_matrix(y_test, y_pred)\n",
        "print(\"Confusion Matrix:\\n\", cm)\n"
      ],
      "metadata": {
        "colab": {
          "base_uri": "https://localhost:8080/"
        },
        "id": "p7DbC8IFAfUO",
        "outputId": "804c3811-7e92-4a98-ede4-8e53177da6e4"
      },
      "execution_count": null,
      "outputs": [
        {
          "output_type": "stream",
          "name": "stdout",
          "text": [
            "Accuracy: 96.40%\n",
            "Confusion Matrix:\n",
            " [[1928    0]\n",
            " [  72    0]]\n"
          ]
        }
      ]
    },
    {
      "cell_type": "code",
      "source": [
        "# Load the trained model and scaler\n",
        "model = joblib.load('scholarship_prediction_model.pkl')\n",
        "scaler = joblib.load('scaler.pkl')\n",
        "\n",
        "# Example new student data\n",
        "new_student = {\n",
        "    'GPA': 2.1,\n",
        "    'SAT_Score': 1350,\n",
        "    'Academic_Awards': 0,\n",
        "    'Leadership_Roles': 2,\n",
        "    'Volunteering_Hours': 10,\n",
        "    'Household_Income': 50000,\n",
        "    'Number_of_Dependents': 3,\n",
        "    'Received_Financial_Aid': 0,\n",
        "    'Recommendation_Letters': 0\n",
        "}\n",
        "\n",
        "# Convert new student data into a DataFrame for prediction\n",
        "new_student_df = pd.DataFrame([new_student])\n",
        "\n",
        "# Scale the new student's data\n",
        "new_student_scaled = scaler.transform(new_student_df)\n",
        "\n",
        "# Make the prediction\n",
        "prediction = model.predict(new_student_scaled)\n",
        "\n",
        "# Print prediction result\n",
        "if prediction[0] == 1:\n",
        "    print(\"The student is eligible for a scholarship.\")\n",
        "else:\n",
        "    print(\"The student is not eligible for a scholarship.\")\n"
      ],
      "metadata": {
        "colab": {
          "base_uri": "https://localhost:8080/"
        },
        "id": "cYra63-8Anki",
        "outputId": "339b8116-c7e1-44e7-b0ef-40d4d0247372"
      },
      "execution_count": null,
      "outputs": [
        {
          "output_type": "stream",
          "name": "stdout",
          "text": [
            "The student is not eligible for a scholarship.\n"
          ]
        }
      ]
    },
    {
      "cell_type": "code",
      "source": [
        "from google.colab import drive\n",
        "\n",
        "# Mount Google Drive\n",
        "drive.mount('/content/drive')\n"
      ],
      "metadata": {
        "colab": {
          "base_uri": "https://localhost:8080/"
        },
        "id": "BFTI4fKBwfMj",
        "outputId": "2c6cb6e0-cb1f-4510-9728-c3e27819e27b"
      },
      "execution_count": null,
      "outputs": [
        {
          "output_type": "stream",
          "name": "stdout",
          "text": [
            "Mounted at /content/drive\n"
          ]
        }
      ]
    },
    {
      "cell_type": "code",
      "source": [
        "# Path where you want to save the file in Google Drive\n",
        "file_path = '/content/drive/My Drive/synthetic_student_scholarship_data_with_awards_and_roles.csv'\n",
        "\n",
        "# Save the dataset to the specified path in Google Drive\n",
        "synthetic_data.to_csv(file_path, index=False)\n",
        "\n",
        "print(f'Synthetic dataset saved to {file_path}')\n"
      ],
      "metadata": {
        "colab": {
          "base_uri": "https://localhost:8080/"
        },
        "id": "uPQa3iq_xgWK",
        "outputId": "0baa9b22-2f19-4b37-a78d-27369e25c182"
      },
      "execution_count": null,
      "outputs": [
        {
          "output_type": "stream",
          "name": "stdout",
          "text": [
            "Synthetic dataset saved to /content/drive/My Drive/synthetic_student_scholarship_data_with_awards_and_roles.csv\n"
          ]
        }
      ]
    },
    {
      "cell_type": "code",
      "source": [
        "import pandas as pd\n",
        "import numpy as np\n",
        "from faker import Faker\n",
        "from sklearn.model_selection import train_test_split\n",
        "from sklearn.ensemble import RandomForestClassifier\n",
        "from sklearn.metrics import accuracy_score, classification_report\n"
      ],
      "metadata": {
        "id": "atCCfQkQ5isG"
      },
      "execution_count": null,
      "outputs": []
    },
    {
      "cell_type": "code",
      "source": [
        "import pandas as pd\n",
        "import numpy as np\n",
        "from faker import Faker\n",
        "\n",
        "# Initialize the Faker instance\n",
        "fake = Faker()\n",
        "\n",
        "# Set the random seed for reproducibility\n",
        "np.random.seed(42)\n",
        "\n",
        "# List of sports, levels, achievements, academic awards, and leadership roles\n",
        "sports_list = ['Basketball', 'Soccer', 'Tennis', 'Swimming', 'Athletics']\n",
        "sport_levels = ['School', 'District', 'State', 'National']\n",
        "sport_achievements = ['Participation', 'Winner', 'Runner-up']\n",
        "academic_awards_list = ['Dean\\'s List', 'Science Fair Winner', 'Math Olympiad Medalist', 'Valedictorian', 'Essay Contest Winner']\n",
        "leadership_roles_list = ['Class President', 'Club Leader', 'Sports Captain', 'Debate Team Captain', 'Volunteer Coordinator']\n",
        "\n",
        "# Number of synthetic records to generate\n",
        "num_students = 10000\n",
        "\n",
        "# Generate synthetic student data\n",
        "def generate_student_data(num_records):\n",
        "    data = {\n",
        "        'Student_ID': [fake.unique.random_int(min=10000, max=25000) for _ in range(num_records)],\n",
        "        'GPA': np.random.uniform(2.0, 4.0, num_records),  # GPA between 2.0 and 4.0\n",
        "        'SAT_Score': np.random.randint(500, 1600, num_records),  # SAT score between 500 and 1600\n",
        "        'Academic_Awards': np.random.randint(0, 5, num_records),  # Number of academic awards (0 to 4)\n",
        "        'Academic_Award_Type': [np.random.choice(academic_awards_list, size=np.random.randint(0, 5), replace=False).tolist() for _ in range(num_records)],\n",
        "        'Leadership_Roles': np.random.randint(0, 5, num_records),  # Number of leadership roles (0 to 4)\n",
        "        'Leadership_Role_Type': [np.random.choice(leadership_roles_list, size=np.random.randint(0, 3), replace=False).tolist() for _ in range(num_records)],\n",
        "        'Volunteering_Hours': np.random.randint(0, 200, num_records),  # Volunteering hours (0 to 200)\n",
        "        'Sports_Involvement': np.random.choice([0, 1], num_records),  # 1 = involved in sports, 0 = not involved\n",
        "        'Sport_Type': [np.random.choice(sports_list) if involvement == 1 else 'None' for involvement in np.random.choice([0, 1], num_records)],\n",
        "        'Sport_Level': [np.random.choice(sport_levels) if involvement == 1 else 'None' for involvement in np.random.choice([0, 1], num_records)],\n",
        "        'Sport_Achievement': [np.random.choice(sport_achievements) if involvement == 1 else 'None' for involvement in np.random.choice([0, 1], num_records)],\n",
        "        'Household_Income': np.random.randint(20000, 150000, num_records),  # Income between $20k and $150k\n",
        "        'Number_of_Dependents': np.random.randint(1, 6, num_records),  # Number of dependents (1 to 5)\n",
        "        'Received_Financial_Aid': np.random.choice([0, 1], num_records),  # 1 = received aid, 0 = no aid\n",
        "        'Recommendation_Letters': np.random.randint(1, 6, num_records),  # Quality of recommendation letters (1 to 5)\n",
        "        'Scholarship_Eligibility': np.where(  # Generate target based on some conditions\n",
        "            (np.random.uniform(2.0, 4.0, num_records) > 3.5) &\n",
        "            (np.random.randint(900, 1600, num_records) > 1200) &\n",
        "            ((np.random.randint(20000, 150000, num_records) < 60000) | (np.random.choice([0, 1], num_records) == 1)) &\n",
        "            (np.random.randint(1, 6, num_records) > 3),\n",
        "            1, 0)\n",
        "    }\n",
        "\n",
        "    # Convert the dictionary to a Pandas DataFrame\n",
        "    df = pd.DataFrame(data)\n",
        "\n",
        "    # Ensure consistency: If a student is not involved in sports, set related fields to 'None'\n",
        "    df.loc[df['Sports_Involvement'] == 0, ['Sport_Type', 'Sport_Level', 'Sport_Achievement']] = 'None'\n",
        "\n",
        "    return df\n",
        "\n",
        "# Generate the synthetic dataset\n",
        "synthetic_data = generate_student_data(num_students)\n",
        "\n",
        "# Save the dataset to a CSV file\n",
        "synthetic_data.to_csv('synthetic_student_scholarship_data.csv', index=False)\n",
        "\n",
        "# Display the first few rows of the dataset\n",
        "print(synthetic_data.head())\n"
      ],
      "metadata": {
        "colab": {
          "base_uri": "https://localhost:8080/"
        },
        "id": "t46h_cX0m3VP",
        "outputId": "4a2eb229-efff-4bf5-e136-fb3621a7b3cd"
      },
      "execution_count": null,
      "outputs": [
        {
          "output_type": "stream",
          "name": "stdout",
          "text": [
            "   Student_ID       GPA  SAT_Score  Academic_Awards  \\\n",
            "0       18364  2.749080       1363                4   \n",
            "1       17426  3.901429       1047                1   \n",
            "2       21047  3.463988       1560                4   \n",
            "3       14438  3.197317       1507                4   \n",
            "4       21820  2.312037       1537                3   \n",
            "\n",
            "                                 Academic_Award_Type  Leadership_Roles  \\\n",
            "0  [Science Fair Winner, Dean's List, Math Olympi...                 3   \n",
            "1                       [Dean's List, Valedictorian]                 4   \n",
            "2                                                 []                 2   \n",
            "3                                                 []                 4   \n",
            "4                                                 []                 3   \n",
            "\n",
            "             Leadership_Role_Type  Volunteering_Hours  Sports_Involvement  \\\n",
            "0                              []                 105                   1   \n",
            "1         [Volunteer Coordinator]                 111                   1   \n",
            "2         [Volunteer Coordinator]                 126                   1   \n",
            "3  [Class President, Club Leader]                 164                   1   \n",
            "4                              []                 178                   0   \n",
            "\n",
            "  Sport_Type Sport_Level Sport_Achievement  Household_Income  \\\n",
            "0       None    District         Runner-up             33070   \n",
            "1       None       State              None             86814   \n",
            "2       None        None     Participation             47553   \n",
            "3       None    District              None             78770   \n",
            "4       None        None              None            132304   \n",
            "\n",
            "   Number_of_Dependents  Received_Financial_Aid  Recommendation_Letters  \\\n",
            "0                     4                       1                       1   \n",
            "1                     3                       1                       4   \n",
            "2                     1                       0                       3   \n",
            "3                     5                       1                       3   \n",
            "4                     3                       1                       3   \n",
            "\n",
            "   Scholarship_Eligibility  \n",
            "0                        0  \n",
            "1                        0  \n",
            "2                        0  \n",
            "3                        0  \n",
            "4                        0  \n"
          ]
        }
      ]
    },
    {
      "cell_type": "code",
      "source": [
        "# Load the dataset with college names and their indices\n",
        "college_data = pd.read_csv('/content/drive/MyDrive/College_details.csv')  # Replace with your dataset filename\n",
        "college_index_map = dict(zip(college_data['COLLEGE NAME'], college_data['INDEX']))\n"
      ],
      "metadata": {
        "id": "wbfwyMC2nJX-"
      },
      "execution_count": null,
      "outputs": []
    },
    {
      "cell_type": "code",
      "source": [
        "# Define feature columns\n",
        "features = ['GPA', 'SAT_Score', 'Academic_Awards', 'Leadership_Roles', 'Volunteering_Hours',\n",
        "            'Household_Income', 'Number_of_Dependents', 'Received_Financial_Aid', 'Recommendation_Letters']\n",
        "\n",
        "# Separate features and target\n",
        "X = synthetic_data[features]\n",
        "y = synthetic_data['Scholarship_Eligibility']\n",
        "\n",
        "# Split the data into training and testing sets\n",
        "X_train, X_test, y_train, y_test = train_test_split(X, y, test_size=0.2, random_state=42)\n",
        "\n",
        "# Standardize the features (GPA, SAT_Score, etc.)\n",
        "scaler = StandardScaler()\n",
        "X_train_scaled = scaler.fit_transform(X_train)\n",
        "X_test_scaled = scaler.transform(X_test)"
      ],
      "metadata": {
        "id": "tEuhxbsmoTss"
      },
      "execution_count": null,
      "outputs": []
    },
    {
      "cell_type": "code",
      "source": [
        "import pandas as pd\n",
        "import numpy as np\n",
        "from faker import Faker\n",
        "\n",
        "# Load the dataset with college names and their indices\n",
        "college_data = pd.read_csv('/content/drive/MyDrive/College_details.csv')  # Replace with your dataset filename\n",
        "college_index_map = dict(zip(college_data['COLLEGE NAME'], college_data['INDEX']))\n",
        "\n",
        "# Initialize the Faker instance\n",
        "fake = Faker()\n",
        "\n",
        "# Set the random seed for reproducibility\n",
        "np.random.seed(42)\n",
        "\n",
        "# List of sports, levels, achievements, academic awards, and leadership roles\n",
        "sports_list = ['Basketball', 'Soccer', 'Tennis', 'Swimming', 'Athletics']\n",
        "sport_levels = ['School', 'District', 'State', 'National']\n",
        "sport_achievements = ['Participation', 'Winner', 'Runner-up']\n",
        "academic_awards_list = ['Dean\\'s List', 'Science Fair Winner', 'Math Olympiad Medalist', 'Valedictorian', 'Essay Contest Winner']\n",
        "leadership_roles_list = ['Class President', 'Club Leader', 'Sports Captain', 'Debate Team Captain', 'Volunteer Coordinator']\n",
        "\n",
        "# Number of synthetic records to generate\n",
        "num_students = 10000\n",
        "\n",
        "# Generate synthetic student data\n",
        "def generate_student_data(num_records):\n",
        "    data = {\n",
        "        'Student_ID': [fake.unique.random_int(min=10000, max=25000) for _ in range(num_records)],\n",
        "        'GPA': np.random.uniform(2.0, 4.0, num_records),  # GPA between 2.0 and 4.0\n",
        "        'SAT_Score': np.random.randint(500, 1600, num_records),  # SAT score between 500 and 1600\n",
        "        'Academic_Awards': np.random.randint(0, 5, num_records),  # Number of academic awards (0 to 4)\n",
        "        'Academic_Award_Type': [np.random.choice(academic_awards_list, size=np.random.randint(0, 5), replace=False).tolist() for _ in range(num_records)],  # Type of academic awards\n",
        "        'Leadership_Roles': np.random.randint(0, 5, num_records),  # Number of leadership roles (0 to 6)\n",
        "        'Leadership_Role_Type': [np.random.choice(leadership_roles_list, size=np.random.randint(0, 3), replace=False).tolist() for _ in range(num_records)],  # Type of leadership roles\n",
        "        'Volunteering_Hours': np.random.randint(0, 200, num_records),  # Volunteering hours (0 to 200)\n",
        "        'Sports_Involvement': np.random.choice([0, 1], num_records),  # 1 = involved in sports, 0 = not involved\n",
        "        'Sport_Type': [np.random.choice(sports_list) if involvement == 1 else 'None' for involvement in np.random.choice([0, 1], num_records)],  # Type of sport\n",
        "        'Sport_Level': [np.random.choice(sport_levels) if involvement == 1 else 'None' for involvement in np.random.choice([0, 1], num_records)],  # Level of sport\n",
        "        'Sport_Achievement': [np.random.choice(sport_achievements) if involvement == 1 else 'None' for involvement in np.random.choice([0, 1], num_records)],  # Achievement in sport\n",
        "        'Household_Income': np.random.randint(20000, 150000, num_records),  # Income between $20k and $150k\n",
        "        'Number_of_Dependents': np.random.randint(1, 6, num_records),  # Number of dependents (1 to 5)\n",
        "        'Received_Financial_Aid': np.random.choice([0, 1], num_records),  # 1 = received aid, 0 = no aid\n",
        "        'Recommendation_Letters': np.random.randint(1, 6, num_records),  # Quality of recommendation letters (1 to 5)\n",
        "        'College_Name': np.random.choice(college_data['COLLEGE NAME'], num_records),  # Random college names\n",
        "        'Scholarship_Eligibility': np.where(  # Generate target based on some conditions\n",
        "            (np.random.uniform(2.0, 4.0, num_records) > 3.5) &\n",
        "            (np.random.randint(900, 1600, num_records) > 1200) &\n",
        "            ((np.random.randint(20000, 150000, num_records) < 60000) | (np.random.choice([0, 1], num_records) == 1)) &\n",
        "            (np.random.randint(1, 6, num_records) > 3),\n",
        "            1, 0)\n",
        "    }\n",
        "\n",
        "    # Convert the dictionary to a Pandas DataFrame\n",
        "    df = pd.DataFrame(data)\n",
        "\n",
        "    # Ensure consistency: If a student is not involved in sports, set related fields to 'None'\n",
        "    df.loc[df['Sports_Involvement'] == 0, ['Sport_Type', 'Sport_Level', 'Sport_Achievement']] = 'None'\n",
        "\n",
        "    return df\n",
        "\n",
        "# Function to get eligibility criteria based on college name\n",
        "def get_eligibility_criteria(college_name):\n",
        "    if college_name in college_index_map:\n",
        "        index = college_index_map[college_name]\n",
        "        if 1 <= index <= 150:\n",
        "            return (3.8, 1500)  # GPA, SAT for colleges ranked 1-150\n",
        "        elif 151 <= index <= 300:\n",
        "            return (3.5, 1400)  # GPA, SAT for colleges ranked 151-300\n",
        "        elif 301 <= index <= 450:\n",
        "            return (3.2, 1300)  # GPA, SAT for colleges ranked 301-450\n",
        "        elif 451 <= index <= 600:\n",
        "            return (3.0, 1200)  # GPA, SAT for colleges ranked 451-600\n",
        "        elif 601 <= index <= 750:\n",
        "            return (2.9, 1100)  # GPA, SAT for colleges ranked 601-750\n",
        "        elif 751 <= index <= 900:\n",
        "            return (2.8, 1000)  # GPA, SAT for colleges ranked 751-900\n",
        "        elif 901 <= index <= 1050:\n",
        "            return (2.7, 900)   # GPA, SAT for colleges ranked 901-1050\n",
        "        elif 1051 <= index <= 1200:\n",
        "            return (2.6, 800)   # GPA, SAT for colleges ranked 1051-1200\n",
        "        elif 1201 <= index <= 1350:\n",
        "            return (2.5, 700)   # GPA, SAT for colleges ranked 1201-1350\n",
        "        elif 1351 <= index <= 1503:\n",
        "            return (2.3, 550)   # GPA, SAT for colleges ranked 1351-1503\n",
        "    return (None, None)  # Invalid college name\n",
        "\n",
        "# Function to provide personalized recommendations\n",
        "def provide_recommendations(user_gpa, user_sat_score, required_gpa, required_sat):\n",
        "    recommendations = []\n",
        "\n",
        "    if user_gpa < required_gpa:\n",
        "        gpa_diff = required_gpa - user_gpa\n",
        "        recommendations.append(f\"Increase GPA by at least {gpa_diff:.2f}. Consider tutoring, study groups, or retaking challenging courses.\")\n",
        "\n",
        "    if user_sat_score < required_sat:\n",
        "        sat_diff = required_sat - user_sat_score\n",
        "        recommendations.append(f\"Improve SAT score by at least {sat_diff}. Consider SAT prep courses, practice tests, and setting a study schedule.\")\n",
        "\n",
        "    if user_gpa >= 2.0 and user_gpa < 3.0:\n",
        "        recommendations.append(\"Engage in more academic activities such as joining study clubs or attending academic workshops.\")\n",
        "\n",
        "    if user_gpa >= 3.0 and user_gpa < 3.5:\n",
        "        recommendations.append(\"Aim for additional academic awards or honors to strengthen your application.\")\n",
        "\n",
        "    recommendations.append(\"Participate in extracurricular activities such as volunteering or leadership roles to enhance your profile.\")\n",
        "\n",
        "    return recommendations\n",
        "\n",
        "# Generate the synthetic dataset\n",
        "synthetic_data = generate_student_data(num_students)\n",
        "\n",
        "# Display the first few rows of the dataset\n",
        "#print(synthetic_data.head())\n",
        "\n",
        "# Check eligibility for a specific college name (example usage)\n",
        "user_college_name = input(\"Enter the college name: \")  # Replace with actual user input\n",
        "user_gpa = float(input(\"Enter the GPA: \"))  # Replace with actual user input\n",
        "user_sat_score = int(input(\"Enter the SAT score: \"))  # Replace with actual user input\n",
        "user_academic_awards = int(input(\"Enter the number of academic awards (0 to 4): \"))\n",
        "user_leadership_roles = int(input(\"Enter the number of leadership roles (0 to 2): \"))\n",
        "user_volunteering_hours = int(input(\"Enter the number of volunteering hours (0 to 200): \"))\n",
        "user_sports_involvement = int(input(\"Enter if the student is involved in sports (1 for Yes, 0 for No): \"))\n",
        "user_household_income = int(input(\"Enter the household income (in dollars, e.g., 45000): \"))\n",
        "user_number_of_dependents = int(input(\"Enter the number of dependents (1 to 5): \"))\n",
        "user_received_financial_aid = int(input(\"Enter if the student received financial aid (1 for Yes, 0 for No): \"))\n",
        "\n",
        "# Example of how to incorporate these values in the scholarship eligibility logic\n",
        "\n",
        "required_gpa, required_sat = get_eligibility_criteria(user_college_name)\n",
        "\n",
        "if required_gpa is not None and required_sat is not None:\n",
        "    if user_gpa >= required_gpa and user_sat_score >= required_sat:\n",
        "        print(f\"You are eligible for Scholarship in {user_college_name}.\")\n",
        "    else:\n",
        "        print(f\"You are not eligible for Scholarship in {user_college_name}. Required GPA: {required_gpa}, Required SAT: {required_sat}\")\n",
        "        # Provide recommendations\n",
        "        recommendations = provide_recommendations(user_gpa, user_sat_score, required_gpa, required_sat)\n",
        "        print(\"Recommendations to improve eligibility:\")\n",
        "        for rec in recommendations:\n",
        "            print(\"- \" + rec)\n",
        "else:\n",
        "    print(\"College name not found in the dataset.\")\n",
        "\n",
        "# Save the dataset to a CSV file (optional)\n",
        "synthetic_data.to_csv('synthetic_student_scholarship_data_with_awards_and_roles.csv', index=False)\n"
      ],
      "metadata": {
        "colab": {
          "base_uri": "https://localhost:8080/"
        },
        "id": "T2hvV_Vcoe03",
        "outputId": "de5e81c3-b524-4bc0-ee1d-8f7e165ff260"
      },
      "execution_count": null,
      "outputs": [
        {
          "output_type": "stream",
          "name": "stdout",
          "text": [
            "Enter the college name: University of Idaho\n",
            "Enter the GPA: 2.4\n",
            "Enter the SAT score: 600\n",
            "Enter the number of academic awards (0 to 4): 0\n",
            "Enter the number of leadership roles (0 to 2): 0\n",
            "Enter the number of volunteering hours (0 to 200): 10\n",
            "Enter if the student is involved in sports (1 for Yes, 0 for No): 0\n",
            "Enter the household income (in dollars, e.g., 45000): 30000\n",
            "Enter the number of dependents (1 to 5): 1\n",
            "Enter if the student received financial aid (1 for Yes, 0 for No): 1\n",
            "You are not eligible for Scholarship in University of Idaho. Required GPA: 2.6, Required SAT: 800\n",
            "Recommendations to improve eligibility:\n",
            "- Increase GPA by at least 0.20. Consider tutoring, study groups, or retaking challenging courses.\n",
            "- Improve SAT score by at least 200. Consider SAT prep courses, practice tests, and setting a study schedule.\n",
            "- Engage in more academic activities such as joining study clubs or attending academic workshops.\n",
            "- Participate in extracurricular activities such as volunteering or leadership roles to enhance your profile.\n"
          ]
        }
      ]
    },
    {
      "cell_type": "markdown",
      "source": [],
      "metadata": {
        "id": "-HXgbVo7tcZp"
      }
    }
  ]
}